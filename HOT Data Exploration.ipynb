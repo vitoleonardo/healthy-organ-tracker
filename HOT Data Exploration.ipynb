{
 "cells": [
  {
   "cell_type": "markdown",
   "id": "412e238f",
   "metadata": {},
   "source": [
    "# UW-Madison GI Tract Image Segmentation\n",
    "\n",
    "## Data analysis & visualisation"
   ]
  },
  {
   "cell_type": "markdown",
   "id": "4ea52d96",
   "metadata": {},
   "source": [
    "## Load libaries 📚"
   ]
  },
  {
   "cell_type": "code",
   "execution_count": 1,
   "id": "91599ad4",
   "metadata": {},
   "outputs": [],
   "source": [
    "#!/usr/bin/env python\n",
    "\n",
    "import warnings\n",
    "warnings.filterwarnings(\"ignore\")\n",
    "\n",
    "import pandas as pd\n",
    "import numpy as np\n",
    "import os\n",
    "import re\n",
    "import cv2\n",
    "import matplotlib.pyplot as plt\n",
    "import plotly.express as px\n",
    "from plotly.offline import init_notebook_mode\n",
    "from glob import glob\n",
    "\n",
    "import tensorflow as tf\n"
   ]
  },
  {
   "cell_type": "code",
   "execution_count": 2,
   "id": "f4d312f1",
   "metadata": {},
   "outputs": [
    {
     "name": "stdout",
     "output_type": "stream",
     "text": [
      "/Users/viktor/Documents/BA/GIT/HealthyOrganTracker/hpc_train_files\n"
     ]
    }
   ],
   "source": [
    "%cd 'hpc_train_files'"
   ]
  },
  {
   "cell_type": "code",
   "execution_count": 3,
   "id": "e1fbe0d6",
   "metadata": {},
   "outputs": [],
   "source": [
    "from config import CFG\n",
    "from dataloader import DataGenerator\n",
    "from loss import dice_coef, iou_coef, dice_loss, bce_dice_loss\n",
    "from datapreparation import extract_metadata, remove_faulties\n",
    "from utility import rle_encode, rle_decode, build_masks, fix_empty_slices, is_isolated, fix_nc_slices"
   ]
  },
  {
   "cell_type": "markdown",
   "id": "dcdcb4f3",
   "metadata": {},
   "source": [
    "## Config ⚙️"
   ]
  },
  {
   "cell_type": "code",
   "execution_count": 4,
   "id": "7ce6fe0e",
   "metadata": {},
   "outputs": [
    {
     "data": {
      "text/plain": [
       "\"\\nBackbones available: \\n        'efficientnetb0'\\n        'efficientnetb1'\\n        'efficientnetb2'\\n        'efficientnetb3'\\n        'efficientnetb4'\\n        'efficientnetb5'\\n        'efficientnetb6'\\n        'efficientnetb7'\\n        'inceptionresnetv2'\\n        'inceptionv3'\\n        'resnet50'\\n        'resnext50'\\n        'resnext101'\\n        'seresnext50'\\n        'seresnext101'\\n        'densenet121'\\n        'densenet201'\\n        \""
      ]
     },
     "execution_count": 4,
     "metadata": {},
     "output_type": "execute_result"
    }
   ],
   "source": [
    "BASE_PATH = 'input/uw-madison-gi-tract-image-segmentation/'\n",
    "TRAIN_DIR =  BASE_PATH +'train'\n",
    "TRAIN_CSV =  BASE_PATH +'train.csv'\n",
    "\n",
    "\"\"\"\n",
    "Backbones available: \n",
    "        'efficientnetb0'\n",
    "        'efficientnetb1'\n",
    "        'efficientnetb2'\n",
    "        'efficientnetb3'\n",
    "        'efficientnetb4'\n",
    "        'efficientnetb5'\n",
    "        'efficientnetb6'\n",
    "        'efficientnetb7'\n",
    "        'inceptionresnetv2'\n",
    "        'inceptionv3'\n",
    "        'resnet50'\n",
    "        'resnext50'\n",
    "        'resnext101'\n",
    "        'seresnext50'\n",
    "        'seresnext101'\n",
    "        'densenet121'\n",
    "        'densenet201'\n",
    "        \"\"\""
   ]
  },
  {
   "cell_type": "code",
   "execution_count": 5,
   "id": "261131a5",
   "metadata": {},
   "outputs": [],
   "source": [
    "cfg = CFG(\n",
    "    backbone            = 'efficientnetb0',\n",
    "    img_dims            = (32,32,3),\n",
    "    model               = 'UNet',\n",
    "    batch_size          = 16, \n",
    "    epochs              = 1, \n",
    "    kaggle              = False, \n",
    "    use_fold_csv        = True,\n",
    "    semi3d_data         = False,\n",
    "    remove_faulty_cases = True,\n",
    "    use_crop_data       = False)"
   ]
  },
  {
   "cell_type": "code",
   "execution_count": 6,
   "id": "64179f44",
   "metadata": {},
   "outputs": [],
   "source": [
    "df = pd.read_csv(cfg.train_csv)\n",
    "#df = df.sample(n=90, random_state=1)"
   ]
  },
  {
   "cell_type": "markdown",
   "id": "cd3bd249",
   "metadata": {},
   "source": [
    "## Extract metadata\n",
    "\n",
    "* Restructure frame\n",
    "* Extract Case ID, Day and Slice\n",
    "* Extract image path\n",
    "* Extract image dimensions (width, height, pixelspacing)\n",
    "* Extract amount of classes shown in slice"
   ]
  },
  {
   "cell_type": "markdown",
   "id": "2f292b9e",
   "metadata": {},
   "source": [
    "## 2.5D Data\n",
    "* Adds depth to each slice\n",
    "* Instead of a RGB channel we have: slice[0], slice[stride] amd slice[stride*2]"
   ]
  },
  {
   "cell_type": "code",
   "execution_count": 7,
   "id": "1b759ad9",
   "metadata": {},
   "outputs": [
    {
     "name": "stdout",
     "output_type": "stream",
     "text": [
      "Frame merged. Shape: (38496, 22)\n",
      "Remove faulty cases: True\n",
      "Sucess. Shape: (38208, 22)\n"
     ]
    }
   ],
   "source": [
    "df_train = extract_metadata(df, TRAIN_DIR, channels=3, stride=2)\n",
    "df_train.fillna('',inplace=True);"
   ]
  },
  {
   "cell_type": "markdown",
   "id": "c8aec3e1",
   "metadata": {},
   "source": [
    "## Final table"
   ]
  },
  {
   "cell_type": "code",
   "execution_count": 8,
   "id": "49284df5",
   "metadata": {},
   "outputs": [
    {
     "data": {
      "text/html": [
       "<div>\n",
       "<style scoped>\n",
       "    .dataframe tbody tr th:only-of-type {\n",
       "        vertical-align: middle;\n",
       "    }\n",
       "\n",
       "    .dataframe tbody tr th {\n",
       "        vertical-align: top;\n",
       "    }\n",
       "\n",
       "    .dataframe thead th {\n",
       "        text-align: right;\n",
       "    }\n",
       "</style>\n",
       "<table border=\"1\" class=\"dataframe\">\n",
       "  <thead>\n",
       "    <tr style=\"text-align: right;\">\n",
       "      <th></th>\n",
       "      <th>id</th>\n",
       "      <th>large_bowel</th>\n",
       "      <th>small_bowel</th>\n",
       "      <th>stomach</th>\n",
       "      <th>case</th>\n",
       "      <th>day</th>\n",
       "      <th>slice</th>\n",
       "      <th>case_day</th>\n",
       "      <th>path</th>\n",
       "      <th>width</th>\n",
       "      <th>...</th>\n",
       "      <th>pixel_y</th>\n",
       "      <th>count</th>\n",
       "      <th>path00</th>\n",
       "      <th>path01</th>\n",
       "      <th>path02</th>\n",
       "      <th>image_paths</th>\n",
       "      <th>rs</th>\n",
       "      <th>re</th>\n",
       "      <th>cs</th>\n",
       "      <th>ce</th>\n",
       "    </tr>\n",
       "  </thead>\n",
       "  <tbody>\n",
       "    <tr>\n",
       "      <th>18528</th>\n",
       "      <td>case85_day21_slice_0113</td>\n",
       "      <td>25889 4 26041 3 26153 8 26305 7 26418 10 26570...</td>\n",
       "      <td>17457 21 17684 18 17721 25 17949 22 17985 28 1...</td>\n",
       "      <td></td>\n",
       "      <td>85</td>\n",
       "      <td>21</td>\n",
       "      <td>113</td>\n",
       "      <td>case85_day21</td>\n",
       "      <td>input/uw-madison-gi-tract-image-segmentation/t...</td>\n",
       "      <td>266</td>\n",
       "      <td>...</td>\n",
       "      <td>1.50</td>\n",
       "      <td>2</td>\n",
       "      <td>input/uw-madison-gi-tract-image-segmentation/t...</td>\n",
       "      <td>input/uw-madison-gi-tract-image-segmentation/t...</td>\n",
       "      <td>input/uw-madison-gi-tract-image-segmentation/t...</td>\n",
       "      <td>[input/uw-madison-gi-tract-image-segmentation/...</td>\n",
       "      <td>40</td>\n",
       "      <td>10000</td>\n",
       "      <td>0</td>\n",
       "      <td>266</td>\n",
       "    </tr>\n",
       "    <tr>\n",
       "      <th>7929</th>\n",
       "      <td>case36_day8_slice_0026</td>\n",
       "      <td></td>\n",
       "      <td></td>\n",
       "      <td></td>\n",
       "      <td>36</td>\n",
       "      <td>8</td>\n",
       "      <td>26</td>\n",
       "      <td>case36_day8</td>\n",
       "      <td>input/uw-madison-gi-tract-image-segmentation/t...</td>\n",
       "      <td>266</td>\n",
       "      <td>...</td>\n",
       "      <td>1.50</td>\n",
       "      <td>0</td>\n",
       "      <td>input/uw-madison-gi-tract-image-segmentation/t...</td>\n",
       "      <td>input/uw-madison-gi-tract-image-segmentation/t...</td>\n",
       "      <td>input/uw-madison-gi-tract-image-segmentation/t...</td>\n",
       "      <td>[input/uw-madison-gi-tract-image-segmentation/...</td>\n",
       "      <td>37</td>\n",
       "      <td>10000</td>\n",
       "      <td>0</td>\n",
       "      <td>266</td>\n",
       "    </tr>\n",
       "    <tr>\n",
       "      <th>19398</th>\n",
       "      <td>case88_day38_slice_0119</td>\n",
       "      <td>21889 4 22248 8 22607 15 22967 18 23326 21 236...</td>\n",
       "      <td>18198 7 18556 10 18914 13 19273 15 19632 16 19...</td>\n",
       "      <td></td>\n",
       "      <td>88</td>\n",
       "      <td>38</td>\n",
       "      <td>119</td>\n",
       "      <td>case88_day38</td>\n",
       "      <td>input/uw-madison-gi-tract-image-segmentation/t...</td>\n",
       "      <td>360</td>\n",
       "      <td>...</td>\n",
       "      <td>1.50</td>\n",
       "      <td>2</td>\n",
       "      <td>input/uw-madison-gi-tract-image-segmentation/t...</td>\n",
       "      <td>input/uw-madison-gi-tract-image-segmentation/t...</td>\n",
       "      <td>input/uw-madison-gi-tract-image-segmentation/t...</td>\n",
       "      <td>[input/uw-madison-gi-tract-image-segmentation/...</td>\n",
       "      <td>18</td>\n",
       "      <td>10000</td>\n",
       "      <td>0</td>\n",
       "      <td>360</td>\n",
       "    </tr>\n",
       "    <tr>\n",
       "      <th>11649</th>\n",
       "      <td>case49_day15_slice_0002</td>\n",
       "      <td></td>\n",
       "      <td></td>\n",
       "      <td></td>\n",
       "      <td>49</td>\n",
       "      <td>15</td>\n",
       "      <td>2</td>\n",
       "      <td>case49_day15</td>\n",
       "      <td>input/uw-madison-gi-tract-image-segmentation/t...</td>\n",
       "      <td>360</td>\n",
       "      <td>...</td>\n",
       "      <td>1.50</td>\n",
       "      <td>0</td>\n",
       "      <td>input/uw-madison-gi-tract-image-segmentation/t...</td>\n",
       "      <td>input/uw-madison-gi-tract-image-segmentation/t...</td>\n",
       "      <td>input/uw-madison-gi-tract-image-segmentation/t...</td>\n",
       "      <td>[input/uw-madison-gi-tract-image-segmentation/...</td>\n",
       "      <td>35</td>\n",
       "      <td>10000</td>\n",
       "      <td>0</td>\n",
       "      <td>289</td>\n",
       "    </tr>\n",
       "    <tr>\n",
       "      <th>22340</th>\n",
       "      <td>case108_day13_slice_0101</td>\n",
       "      <td>20846 2 21109 10 21373 14 21637 17 21902 18 22...</td>\n",
       "      <td>20647 3 20911 8 21176 11 21442 13 21461 6 2170...</td>\n",
       "      <td></td>\n",
       "      <td>108</td>\n",
       "      <td>13</td>\n",
       "      <td>101</td>\n",
       "      <td>case108_day13</td>\n",
       "      <td>input/uw-madison-gi-tract-image-segmentation/t...</td>\n",
       "      <td>266</td>\n",
       "      <td>...</td>\n",
       "      <td>1.50</td>\n",
       "      <td>2</td>\n",
       "      <td>input/uw-madison-gi-tract-image-segmentation/t...</td>\n",
       "      <td>input/uw-madison-gi-tract-image-segmentation/t...</td>\n",
       "      <td>input/uw-madison-gi-tract-image-segmentation/t...</td>\n",
       "      <td>[input/uw-madison-gi-tract-image-segmentation/...</td>\n",
       "      <td>41</td>\n",
       "      <td>10000</td>\n",
       "      <td>0</td>\n",
       "      <td>263</td>\n",
       "    </tr>\n",
       "  </tbody>\n",
       "</table>\n",
       "<p>5 rows × 22 columns</p>\n",
       "</div>"
      ],
      "text/plain": [
       "                             id  \\\n",
       "18528   case85_day21_slice_0113   \n",
       "7929     case36_day8_slice_0026   \n",
       "19398   case88_day38_slice_0119   \n",
       "11649   case49_day15_slice_0002   \n",
       "22340  case108_day13_slice_0101   \n",
       "\n",
       "                                             large_bowel  \\\n",
       "18528  25889 4 26041 3 26153 8 26305 7 26418 10 26570...   \n",
       "7929                                                       \n",
       "19398  21889 4 22248 8 22607 15 22967 18 23326 21 236...   \n",
       "11649                                                      \n",
       "22340  20846 2 21109 10 21373 14 21637 17 21902 18 22...   \n",
       "\n",
       "                                             small_bowel stomach  case  day  \\\n",
       "18528  17457 21 17684 18 17721 25 17949 22 17985 28 1...            85   21   \n",
       "7929                                                                36    8   \n",
       "19398  18198 7 18556 10 18914 13 19273 15 19632 16 19...            88   38   \n",
       "11649                                                               49   15   \n",
       "22340  20647 3 20911 8 21176 11 21442 13 21461 6 2170...           108   13   \n",
       "\n",
       "       slice       case_day  \\\n",
       "18528    113   case85_day21   \n",
       "7929      26    case36_day8   \n",
       "19398    119   case88_day38   \n",
       "11649      2   case49_day15   \n",
       "22340    101  case108_day13   \n",
       "\n",
       "                                                    path  width  ...  pixel_y  \\\n",
       "18528  input/uw-madison-gi-tract-image-segmentation/t...    266  ...     1.50   \n",
       "7929   input/uw-madison-gi-tract-image-segmentation/t...    266  ...     1.50   \n",
       "19398  input/uw-madison-gi-tract-image-segmentation/t...    360  ...     1.50   \n",
       "11649  input/uw-madison-gi-tract-image-segmentation/t...    360  ...     1.50   \n",
       "22340  input/uw-madison-gi-tract-image-segmentation/t...    266  ...     1.50   \n",
       "\n",
       "      count                                             path00  \\\n",
       "18528     2  input/uw-madison-gi-tract-image-segmentation/t...   \n",
       "7929      0  input/uw-madison-gi-tract-image-segmentation/t...   \n",
       "19398     2  input/uw-madison-gi-tract-image-segmentation/t...   \n",
       "11649     0  input/uw-madison-gi-tract-image-segmentation/t...   \n",
       "22340     2  input/uw-madison-gi-tract-image-segmentation/t...   \n",
       "\n",
       "                                                  path01  \\\n",
       "18528  input/uw-madison-gi-tract-image-segmentation/t...   \n",
       "7929   input/uw-madison-gi-tract-image-segmentation/t...   \n",
       "19398  input/uw-madison-gi-tract-image-segmentation/t...   \n",
       "11649  input/uw-madison-gi-tract-image-segmentation/t...   \n",
       "22340  input/uw-madison-gi-tract-image-segmentation/t...   \n",
       "\n",
       "                                                  path02  \\\n",
       "18528  input/uw-madison-gi-tract-image-segmentation/t...   \n",
       "7929   input/uw-madison-gi-tract-image-segmentation/t...   \n",
       "19398  input/uw-madison-gi-tract-image-segmentation/t...   \n",
       "11649  input/uw-madison-gi-tract-image-segmentation/t...   \n",
       "22340  input/uw-madison-gi-tract-image-segmentation/t...   \n",
       "\n",
       "                                             image_paths  rs     re  cs   ce  \n",
       "18528  [input/uw-madison-gi-tract-image-segmentation/...  40  10000   0  266  \n",
       "7929   [input/uw-madison-gi-tract-image-segmentation/...  37  10000   0  266  \n",
       "19398  [input/uw-madison-gi-tract-image-segmentation/...  18  10000   0  360  \n",
       "11649  [input/uw-madison-gi-tract-image-segmentation/...  35  10000   0  289  \n",
       "22340  [input/uw-madison-gi-tract-image-segmentation/...  41  10000   0  263  \n",
       "\n",
       "[5 rows x 22 columns]"
      ]
     },
     "execution_count": 8,
     "metadata": {},
     "output_type": "execute_result"
    }
   ],
   "source": [
    "df_train.sample(5)"
   ]
  },
  {
   "cell_type": "markdown",
   "id": "bea5108b",
   "metadata": {},
   "source": [
    "## Exploratory Data Analysis\n",
    "\n",
    "* 57% of the slices have no segmentation at all\n",
    "* Left bowel is most segmented, stomach least"
   ]
  },
  {
   "cell_type": "code",
   "execution_count": null,
   "id": "cd7644cf",
   "metadata": {},
   "outputs": [],
   "source": [
    "import plotly.graph_objects as go\n",
    "\n",
    "if not os.path.exists(\"images\"):\n",
    "    os.mkdir(\"images\")\n",
    "\n",
    "dist = np.mean(df_train.iloc[:,1:4]!='',axis=0)\n",
    "no_masks = np.sum(df_train['count'] == 0)/df_train.shape[0]\n",
    "dist = np.round(np.append(dist.values, no_masks) * 100, 2)\n",
    "\n",
    "fig = go.Figure([go.Bar(x=['Dickdarm', 'Dünndarm', 'Magen', 'None'], y=dist, text=dist, textposition='auto')])\n",
    "fig.update_traces( textposition='outside')\n",
    "fig.update_layout(title_text='Segmentierungs Verteilung in %', xaxis_title=\"Klassen\")\n",
    "fig.write_image(\"images/segmentation_distribution.png\")\n",
    "fig.show(\"svg\")"
   ]
  },
  {
   "cell_type": "code",
   "execution_count": null,
   "id": "0508d3e5",
   "metadata": {},
   "outputs": [],
   "source": [
    "dist.to_latex()"
   ]
  },
  {
   "cell_type": "code",
   "execution_count": null,
   "id": "b6d95fd6",
   "metadata": {},
   "outputs": [],
   "source": [
    "cases = df_train[\"case\"].value_counts().reset_index()\n",
    "\n",
    "fig = px.bar(cases, x='case', y='index', text_auto='.2s')\n",
    "fig.update_layout(\n",
    "    font_family=\"Courier New\",\n",
    "    xaxis_title=\"Fall Nr.\",\n",
    "    yaxis_title=\"Anzahl Slices\",\n",
    ")\n",
    "fig.show(\"svg\")\n",
    "fig.write_image(\"images/case_slice.png\")"
   ]
  },
  {
   "cell_type": "code",
   "execution_count": null,
   "id": "fe4d3279",
   "metadata": {},
   "outputs": [],
   "source": [
    "days = df_train[\"day\"].value_counts().reset_index()\n",
    "days = days.loc[days['day'] > 700]\n",
    "fig = px.pie(days, values='day', names='index', title='Verteilung der Slices an Tax X')\n",
    "fig.show()\n",
    "fig.write_image(\"images/day_slice_pie.png\")"
   ]
  },
  {
   "cell_type": "code",
   "execution_count": null,
   "id": "daa26ea5",
   "metadata": {},
   "outputs": [],
   "source": [
    "days_ = df_train[\"day\"].value_counts().reset_index().iloc[1:,:]\n",
    "\n",
    "fig = px.bar(days_, x='index', y='day', text_auto='.2s')\n",
    "fig.update_layout(\n",
    "    font_family=\"Courier New\",\n",
    "    xaxis_title=\"Tag Nr.\",\n",
    "    yaxis_title=\"Anzahl Slices\",\n",
    ")\n",
    "fig.show()\n",
    "fig.write_image(\"images/day_slice.png\")"
   ]
  },
  {
   "cell_type": "code",
   "execution_count": null,
   "id": "77ae4424",
   "metadata": {},
   "outputs": [],
   "source": [
    "width = df_train[\"width\"].value_counts().reset_index()\n",
    "\n",
    "fig = px.bar(width, x='index', y='width', text_auto='.2s')\n",
    "fig.update_layout(\n",
    "    font_family=\"Courier New\",\n",
    "    xaxis_title=\"Breite\",\n",
    "    yaxis_title=\"Anzahl Slices\",\n",
    ")\n",
    "fig.show(\"svg\")\n",
    "fig.write_image(\"images/width_slice.png\")"
   ]
  },
  {
   "cell_type": "code",
   "execution_count": null,
   "id": "5cd845c3",
   "metadata": {},
   "outputs": [],
   "source": [
    "height = df_train[\"height\"].value_counts().reset_index()\n",
    "\n",
    "fig = px.bar(height, x='index', y='height', text_auto='.2s')\n",
    "fig.update_layout(\n",
    "    font_family=\"Courier New\",\n",
    "    title=\"Which height do the slices have?\",\n",
    "    xaxis_title=\"Height\",\n",
    "    yaxis_title=\"Anzahl Slices\",\n",
    ")\n",
    "fig.show(\"svg\")\n",
    "fig.write_image(\"images/height_slice.png\")"
   ]
  },
  {
   "cell_type": "code",
   "execution_count": null,
   "id": "5d9e51a5",
   "metadata": {},
   "outputs": [],
   "source": [
    "df_train[\"pixel_x\"].value_counts().reset_index()"
   ]
  },
  {
   "cell_type": "code",
   "execution_count": null,
   "id": "892e47d0",
   "metadata": {},
   "outputs": [],
   "source": [
    "df_train[\"pixel_y\"].value_counts().reset_index()"
   ]
  },
  {
   "cell_type": "code",
   "execution_count": null,
   "id": "391cea50",
   "metadata": {},
   "outputs": [],
   "source": [
    "def crop_image(x, img):\n",
    "    rs = x['rs']\n",
    "    re = x['re']\n",
    "    cs = x['cs']\n",
    "    ce = x['ce']\n",
    "    return img[rs:re, cs:ce]\n",
    "\n",
    "def ratio(df, class_name, crop=False):\n",
    "    dff = pd.DataFrame()\n",
    "    df['decoded'] = df.apply(lambda x: rle_decode(x[class_name], shape=(x['height'], x['width'])), axis = 1)\n",
    "    dff['decoded'] = df['decoded'].copy()\n",
    "    if crop:\n",
    "        dff['decoded'] = df.apply(lambda x: crop_image(x, x['decoded']), axis=1)\n",
    "        \n",
    "    dff['foreground'] = dff['decoded'].apply(lambda x: np.count_nonzero(x))\n",
    "    dff['background'] = dff.apply(lambda x: x.decoded.size - x.foreground, axis=1)\n",
    "    \n",
    "    ratio = dff['background'].sum() / dff['foreground'].sum()\n",
    "    \n",
    "    print(\"Ratio of background / foreground of class \" + class_name + \" is equal to \" + str(ratio))\n",
    "    \n",
    "    return dff"
   ]
  },
  {
   "cell_type": "code",
   "execution_count": null,
   "id": "ae33ba78",
   "metadata": {},
   "outputs": [],
   "source": [
    "sb = ratio(df_train, \"small_bowel\")"
   ]
  },
  {
   "cell_type": "code",
   "execution_count": null,
   "id": "b46a278d",
   "metadata": {},
   "outputs": [],
   "source": [
    "lb = ratio(df_train, \"large_bowel\")"
   ]
  },
  {
   "cell_type": "code",
   "execution_count": null,
   "id": "955e49b3",
   "metadata": {},
   "outputs": [],
   "source": [
    "stomach = ratio(df_train, \"stomach\")"
   ]
  },
  {
   "cell_type": "code",
   "execution_count": null,
   "id": "bc4a0d0a",
   "metadata": {},
   "outputs": [],
   "source": [
    "background_average = (sb['background'].sum() + lb['background'].sum() + stomach['background'].sum() )/3"
   ]
  },
  {
   "cell_type": "code",
   "execution_count": null,
   "id": "18315054",
   "metadata": {},
   "outputs": [],
   "source": [
    "df['total'] = stomach['foreground'] + sb['foreground'] + lb['foreground']\n",
    "\n",
    "total_ratio =  background_average / df['total'].sum()"
   ]
  },
  {
   "cell_type": "code",
   "execution_count": null,
   "id": "0bfb5eac",
   "metadata": {},
   "outputs": [],
   "source": [
    "total_ratio"
   ]
  },
  {
   "cell_type": "code",
   "execution_count": null,
   "id": "e1ed3265",
   "metadata": {},
   "outputs": [],
   "source": [
    "sb_crop = ratio(df_train, \"small_bowel\", crop=True)"
   ]
  },
  {
   "cell_type": "code",
   "execution_count": null,
   "id": "0fa3dbfe",
   "metadata": {},
   "outputs": [],
   "source": [
    "lb_crop = ratio(df_train, \"large_bowel\", crop=True)"
   ]
  },
  {
   "cell_type": "code",
   "execution_count": null,
   "id": "39fb3a8a",
   "metadata": {},
   "outputs": [],
   "source": [
    "stomach_crop = ratio(df_train, \"stomach\", crop=True)"
   ]
  },
  {
   "cell_type": "code",
   "execution_count": null,
   "id": "4aba20a2",
   "metadata": {},
   "outputs": [],
   "source": [
    "background_average_crop = (sb_crop['background'].sum() + lb_crop['background'].sum() + stomach_crop['background'].sum() )/3"
   ]
  },
  {
   "cell_type": "code",
   "execution_count": null,
   "id": "f5f90734",
   "metadata": {},
   "outputs": [],
   "source": [
    "df['total'] = stomach_crop['foreground'] + sb_crop['foreground'] + lb_crop['foreground']\n",
    "\n",
    "total_ratio_crop =  background_average_crop / df['total'].sum()"
   ]
  },
  {
   "cell_type": "code",
   "execution_count": null,
   "id": "ac422dfb",
   "metadata": {},
   "outputs": [],
   "source": [
    "total_ratio_crop"
   ]
  },
  {
   "cell_type": "code",
   "execution_count": null,
   "id": "e8bc2494",
   "metadata": {},
   "outputs": [],
   "source": []
  }
 ],
 "metadata": {
  "kernelspec": {
   "display_name": "Python [conda env:HOT]",
   "language": "python",
   "name": "conda-env-HOT-py"
  },
  "language_info": {
   "codemirror_mode": {
    "name": "ipython",
    "version": 3
   },
   "file_extension": ".py",
   "mimetype": "text/x-python",
   "name": "python",
   "nbconvert_exporter": "python",
   "pygments_lexer": "ipython3",
   "version": "3.10.4"
  },
  "vscode": {
   "interpreter": {
    "hash": "dfc98d2b8a9775e24625fd47b82b5e80d942e5ab17d4f8bfcdfd02abddeecec5"
   }
  }
 },
 "nbformat": 4,
 "nbformat_minor": 5
}
