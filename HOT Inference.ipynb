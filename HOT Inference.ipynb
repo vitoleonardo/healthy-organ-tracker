{
 "cells": [
  {
   "cell_type": "markdown",
   "id": "0135f5ac",
   "metadata": {},
   "source": [
    "# UW-Madison GI Tract Image Segmentation\n",
    "\n",
    "## Inference"
   ]
  },
  {
   "cell_type": "code",
   "execution_count": 124,
   "id": "7afc70ec",
   "metadata": {},
   "outputs": [
    {
     "name": "stdout",
     "output_type": "stream",
     "text": [
      "\t\t– MATPLOTLIB VERSION: 3.5.2\n"
     ]
    }
   ],
   "source": [
    "#!/usr/bin/env python\n",
    "\n",
    "import warnings\n",
    "warnings.filterwarnings(\"ignore\")\n",
    "\n",
    "import pandas as pd\n",
    "from tqdm.notebook import tqdm\n",
    "tqdm.pandas()\n",
    "import numpy as np\n",
    "import os\n",
    "import re\n",
    "import cv2\n",
    "from plotly.offline import init_notebook_mode\n",
    "from glob import glob\n",
    "\n",
    "import tensorflow as tf\n",
    "\n",
    "# Visualization Imports\n",
    "from matplotlib.colors import ListedColormap\n",
    "from matplotlib.patches import Rectangle\n",
    "import matplotlib.patches as patches\n",
    "import plotly.graph_objects as go\n",
    "import matplotlib.pyplot as plt\n",
    "from tqdm.notebook import tqdm; tqdm.pandas();\n",
    "import plotly.express as px\n",
    "import seaborn as sns\n",
    "from PIL import Image, ImageEnhance\n",
    "import matplotlib; print(f\"\\t\\t– MATPLOTLIB VERSION: {matplotlib.__version__}\");\n",
    "from matplotlib import animation, rc; rc('animation', html='jshtml')\n",
    "from matplotlib.colors import LinearSegmentedColormap\n",
    "import plotly\n",
    "import PIL\n",
    "import cv2"
   ]
  },
  {
   "cell_type": "code",
   "execution_count": 2,
   "id": "b49e89e7",
   "metadata": {},
   "outputs": [
    {
     "name": "stdout",
     "output_type": "stream",
     "text": [
      "/Users/viktor/Documents/BA/GIT/HealthyOrganTracker/hpc_train_files\n"
     ]
    }
   ],
   "source": [
    "%cd 'hpc_train_files'"
   ]
  },
  {
   "cell_type": "code",
   "execution_count": 3,
   "id": "045efec0",
   "metadata": {},
   "outputs": [],
   "source": [
    "from config import CFG\n",
    "from dataloader import DataGenerator\n",
    "from loss import dice_coef, iou_coef, dice_loss, bce_dice_loss\n",
    "from datapreparation import extract_metadata, remove_faulties"
   ]
  },
  {
   "cell_type": "code",
   "execution_count": 12,
   "id": "a25c6e58",
   "metadata": {},
   "outputs": [],
   "source": [
    "## Helper "
   ]
  },
  {
   "cell_type": "markdown",
   "id": "1bae8a32",
   "metadata": {},
   "source": [
    "## Config ⚙️\n"
   ]
  },
  {
   "cell_type": "code",
   "execution_count": 58,
   "id": "55eb005f",
   "metadata": {},
   "outputs": [
    {
     "data": {
      "text/plain": [
       "\"\\nBackbones available: \\n        'efficientnetb0'\\n        'efficientnetb5'\\n        'efficientnetb7'\\n        'inceptionresnetv2'\\n        'inceptionv3'\\n        'resnet50'\\n        'resnext50'\\n        'resnext101'\\n        'seresnext50'\\n        'seresnext101'\\n        'densenet121'\\n        'densenet201'\\n        \""
      ]
     },
     "execution_count": 58,
     "metadata": {},
     "output_type": "execute_result"
    }
   ],
   "source": [
    "BASE_PATH = 'input/uw-madison-gi-tract-image-segmentation/'\n",
    "TRAIN_DIR =  BASE_PATH +'train'\n",
    "TRAIN_CSV =  BASE_PATH +'train.csv'\n",
    "STYE = \"multilabel\"\n",
    "DEBUG = True\n",
    "\n",
    "\"\"\"\n",
    "Backbones available: \n",
    "        'efficientnetb0'\n",
    "        'efficientnetb5'\n",
    "        'efficientnetb7'\n",
    "        'inceptionresnetv2'\n",
    "        'inceptionv3'\n",
    "        'resnet50'\n",
    "        'resnext50'\n",
    "        'resnext101'\n",
    "        'seresnext50'\n",
    "        'seresnext101'\n",
    "        'densenet121'\n",
    "        'densenet201'\n",
    "        \"\"\""
   ]
  },
  {
   "cell_type": "code",
   "execution_count": 5,
   "id": "df115018",
   "metadata": {},
   "outputs": [],
   "source": [
    "df = pd.read_csv(TRAIN_CSV)\n",
    "#df = df.sample(n=90, random_state=1)"
   ]
  },
  {
   "cell_type": "code",
   "execution_count": 6,
   "id": "e7649897",
   "metadata": {},
   "outputs": [],
   "source": [
    "cfg = CFG(\n",
    "    backbone            = 'efficientnetb0',\n",
    "    img_dims            = (32,32,3),\n",
    "    model               = 'UNet',\n",
    "    batch_size          = 16, \n",
    "    epochs              = 1, \n",
    "    kaggle              = False, \n",
    "    use_fold_csv        = True,\n",
    "    semi3d_data         = True,\n",
    "    remove_faulty_cases = True,\n",
    "    use_crop_data       = True)"
   ]
  },
  {
   "cell_type": "code",
   "execution_count": 122,
   "id": "d9f90faf",
   "metadata": {},
   "outputs": [],
   "source": [
    "# ref: https://www.kaggle.com/paulorzp/run-length-encode-and-decode\n",
    "# modified from: https://www.kaggle.com/inversion/run-length-decoding-quick-start\n",
    "def rle_decode(mask_rle, shape, color=1):\n",
    "    \"\"\" TBD\n",
    "    \n",
    "    Args:\n",
    "        mask_rle (str): run-length as string formated (start length)\n",
    "        shape (tuple of ints): (height,width) of array to return \n",
    "    \n",
    "    Returns: \n",
    "        Mask (np.array)\n",
    "            - 1 indicating mask\n",
    "            - 0 indicating background\n",
    "\n",
    "    \"\"\"\n",
    "    # Split the string by space, then convert it into a integer array\n",
    "    s = np.array(mask_rle.split(), dtype=int)\n",
    "\n",
    "    # Every even value is the start, every odd value is the \"run\" length\n",
    "    starts = s[0::2] - 1\n",
    "    lengths = s[1::2]\n",
    "    ends = starts + lengths\n",
    "\n",
    "    # The image image is actually flattened since RLE is a 1D \"run\"\n",
    "    if len(shape)==3:\n",
    "        h, w, d = shape\n",
    "        img = np.zeros((h * w, d), dtype=np.float32)\n",
    "    else:\n",
    "        h, w = shape\n",
    "        img = np.zeros((h * w,), dtype=np.float32)\n",
    "\n",
    "    # The color here is actually just any integer you want!\n",
    "    for lo, hi in zip(starts, ends):\n",
    "        img[lo : hi] = color\n",
    "        \n",
    "    # Don't forget to change the image back to the original shape\n",
    "    return img.reshape(shape)\n",
    "\n",
    "# https://www.kaggle.com/namgalielei/which-reshape-is-used-in-rle\n",
    "def rle_decode_top_to_bot_first(mask_rle, shape):\n",
    "    \"\"\" TBD\n",
    "    \n",
    "    Args:\n",
    "        mask_rle (str): run-length as string formated (start length)\n",
    "        shape (tuple of ints): (height,width) of array to return \n",
    "    \n",
    "    Returns:\n",
    "        Mask (np.array)\n",
    "            - 1 indicating mask\n",
    "            - 0 indicating background\n",
    "\n",
    "    \"\"\"\n",
    "    s = mask_rle.split()\n",
    "    starts, lengths = [np.asarray(x, dtype=int) for x in (s[0:][::2], s[1:][::2])]\n",
    "    starts -= 1\n",
    "    ends = starts + lengths\n",
    "    img = np.zeros(shape[0]*shape[1], dtype=np.uint8)\n",
    "    for lo, hi in zip(starts, ends):\n",
    "        img[lo:hi] = 1\n",
    "    return img.reshape((shape[1], shape[0]), order='F').T  # Reshape from top -> bottom first\n",
    "\n",
    "# ref.: https://www.kaggle.com/stainsby/fast-tested-rle\n",
    "def rle_encode(img):\n",
    "    \"\"\" TBD\n",
    "    \n",
    "    Args:\n",
    "        img (np.array): \n",
    "            - 1 indicating mask\n",
    "            - 0 indicating background\n",
    "    \n",
    "    Returns: \n",
    "        run length as string formated\n",
    "    \"\"\"\n",
    "    \n",
    "    pixels = img.flatten()\n",
    "    pixels = np.concatenate([[0], pixels, [0]])\n",
    "    runs = np.where(pixels[1:] != pixels[:-1])[0] + 1\n",
    "    runs[1::2] -= runs[::2]\n",
    "    return ' '.join(str(x) for x in runs)\n",
    "\n",
    "def flatten_l_o_l(nested_list):\n",
    "    \"\"\" Flatten a list of lists \"\"\"\n",
    "    return [item for sublist in nested_list for item in sublist]\n",
    "\n",
    "def load_json_to_dict(json_path):\n",
    "    \"\"\" tbd \"\"\"\n",
    "    with open(json_path) as json_file:\n",
    "        data = json.load(json_file)\n",
    "    return data\n",
    "\n",
    "def tf_load_png(img_path):\n",
    "    return tf.image.decode_png(tf.io.read_file(img_path), channels=3)\n",
    "\n",
    "def open_gray16(_path, normalize=True, to_rgb=False):\n",
    "    \"\"\" Helper to open files \"\"\"\n",
    "    if normalize:\n",
    "        if to_rgb:\n",
    "            return np.tile(np.expand_dims(cv2.imread(_path, cv2.IMREAD_ANYDEPTH)/65535., axis=-1), 3)\n",
    "        else:\n",
    "            return cv2.imread(_path, cv2.IMREAD_ANYDEPTH)/65535.\n",
    "    else:\n",
    "        if to_rgb:\n",
    "            return np.tile(np.expand_dims(cv2.imread(_path, cv2.IMREAD_ANYDEPTH), axis=-1), 3)\n",
    "        else:\n",
    "            return cv2.imread(_path, cv2.IMREAD_ANYDEPTH)\n",
    "        \n",
    "def rle_decode_tf(mask_rle, shape):\n",
    "    \"\"\" TBD \"\"\"\n",
    "    \n",
    "    shape = tf.convert_to_tensor(shape, tf.int64)\n",
    "    size = tf.math.reduce_prod(shape)\n",
    "    \n",
    "    # Split string\n",
    "    s = tf.strings.split(mask_rle)\n",
    "    s = tf.strings.to_number(s, tf.int64)\n",
    "    \n",
    "    # Get starts and lengths\n",
    "    starts = s[::2] - 1\n",
    "    lens = s[1::2]\n",
    "    \n",
    "    # Make ones to be scattered\n",
    "    total_ones = tf.reduce_sum(lens)\n",
    "    ones = tf.ones([total_ones], tf.uint8)\n",
    "    \n",
    "    # Make scattering indices\n",
    "    r = tf.range(total_ones)\n",
    "    lens_cum = tf.math.cumsum(lens)\n",
    "    s = tf.searchsorted(lens_cum, r, 'right')\n",
    "    idx = r + tf.gather(starts - tf.pad(lens_cum[:-1], [(1, 0)]), s)\n",
    "    \n",
    "    # Scatter ones into flattened mask\n",
    "    mask_flat = tf.scatter_nd(tf.expand_dims(idx, 1), ones, [size])\n",
    "    \n",
    "    # Reshape into mask\n",
    "    return tf.reshape(mask_flat, shape)\n",
    "\n",
    "# Custom color map in matplotlib\n",
    "def CustomCmap(rgb_color):\n",
    "\n",
    "    r1,g1,b1 = rgb_color\n",
    "\n",
    "    cdict = {'red': ((0, r1, r1),\n",
    "                   (1, r1, r1)),\n",
    "           'green': ((0, g1, g1),\n",
    "                    (1, g1, g1)),\n",
    "           'blue': ((0, b1, b1),\n",
    "                   (1, b1, b1))}\n",
    "\n",
    "    cmap = LinearSegmentedColormap('custom_cmap', cdict)\n",
    "    return cmap\n"
   ]
  },
  {
   "cell_type": "markdown",
   "id": "f77f2ef5",
   "metadata": {},
   "source": [
    "## Load Dataframe with crop infos"
   ]
  },
  {
   "cell_type": "code",
   "execution_count": 7,
   "id": "8e353ce9",
   "metadata": {},
   "outputs": [
    {
     "name": "stdout",
     "output_type": "stream",
     "text": [
      "Frame merged. Shape: (38496, 21)\n",
      "Remove faulty cases: True\n",
      "Sucess. Shape: (38208, 21)\n"
     ]
    },
    {
     "data": {
      "text/html": [
       "<div>\n",
       "<style scoped>\n",
       "    .dataframe tbody tr th:only-of-type {\n",
       "        vertical-align: middle;\n",
       "    }\n",
       "\n",
       "    .dataframe tbody tr th {\n",
       "        vertical-align: top;\n",
       "    }\n",
       "\n",
       "    .dataframe thead th {\n",
       "        text-align: right;\n",
       "    }\n",
       "</style>\n",
       "<table border=\"1\" class=\"dataframe\">\n",
       "  <thead>\n",
       "    <tr style=\"text-align: right;\">\n",
       "      <th></th>\n",
       "      <th>id</th>\n",
       "      <th>large_bowel</th>\n",
       "      <th>small_bowel</th>\n",
       "      <th>stomach</th>\n",
       "      <th>case</th>\n",
       "      <th>day</th>\n",
       "      <th>slice</th>\n",
       "      <th>path</th>\n",
       "      <th>width</th>\n",
       "      <th>height</th>\n",
       "      <th>...</th>\n",
       "      <th>pixel_y</th>\n",
       "      <th>count</th>\n",
       "      <th>path00</th>\n",
       "      <th>path01</th>\n",
       "      <th>path02</th>\n",
       "      <th>image_paths</th>\n",
       "      <th>rs</th>\n",
       "      <th>re</th>\n",
       "      <th>cs</th>\n",
       "      <th>ce</th>\n",
       "    </tr>\n",
       "  </thead>\n",
       "  <tbody>\n",
       "    <tr>\n",
       "      <th>10135</th>\n",
       "      <td>case43_day20_slice_0072</td>\n",
       "      <td></td>\n",
       "      <td></td>\n",
       "      <td>34223 16 34246 9 34487 36 34752 38 35018 39 35...</td>\n",
       "      <td>43</td>\n",
       "      <td>20</td>\n",
       "      <td>72</td>\n",
       "      <td>input/uw-madison-gi-tract-image-segmentation/t...</td>\n",
       "      <td>266</td>\n",
       "      <td>266</td>\n",
       "      <td>...</td>\n",
       "      <td>1.50</td>\n",
       "      <td>1</td>\n",
       "      <td>input/uw-madison-gi-tract-image-segmentation/t...</td>\n",
       "      <td>input/uw-madison-gi-tract-image-segmentation/t...</td>\n",
       "      <td>input/uw-madison-gi-tract-image-segmentation/t...</td>\n",
       "      <td>[input/uw-madison-gi-tract-image-segmentation/...</td>\n",
       "      <td>45</td>\n",
       "      <td>10000</td>\n",
       "      <td>0</td>\n",
       "      <td>266</td>\n",
       "    </tr>\n",
       "    <tr>\n",
       "      <th>28233</th>\n",
       "      <td>case125_day15_slice_0122</td>\n",
       "      <td></td>\n",
       "      <td></td>\n",
       "      <td></td>\n",
       "      <td>125</td>\n",
       "      <td>15</td>\n",
       "      <td>122</td>\n",
       "      <td>input/uw-madison-gi-tract-image-segmentation/t...</td>\n",
       "      <td>266</td>\n",
       "      <td>266</td>\n",
       "      <td>...</td>\n",
       "      <td>1.50</td>\n",
       "      <td>0</td>\n",
       "      <td>input/uw-madison-gi-tract-image-segmentation/t...</td>\n",
       "      <td>input/uw-madison-gi-tract-image-segmentation/t...</td>\n",
       "      <td>input/uw-madison-gi-tract-image-segmentation/t...</td>\n",
       "      <td>[input/uw-madison-gi-tract-image-segmentation/...</td>\n",
       "      <td>43</td>\n",
       "      <td>10000</td>\n",
       "      <td>0</td>\n",
       "      <td>266</td>\n",
       "    </tr>\n",
       "    <tr>\n",
       "      <th>9088</th>\n",
       "      <td>case41_day25_slice_0033</td>\n",
       "      <td></td>\n",
       "      <td></td>\n",
       "      <td></td>\n",
       "      <td>41</td>\n",
       "      <td>25</td>\n",
       "      <td>33</td>\n",
       "      <td>input/uw-madison-gi-tract-image-segmentation/t...</td>\n",
       "      <td>266</td>\n",
       "      <td>266</td>\n",
       "      <td>...</td>\n",
       "      <td>1.50</td>\n",
       "      <td>0</td>\n",
       "      <td>input/uw-madison-gi-tract-image-segmentation/t...</td>\n",
       "      <td>input/uw-madison-gi-tract-image-segmentation/t...</td>\n",
       "      <td>input/uw-madison-gi-tract-image-segmentation/t...</td>\n",
       "      <td>[input/uw-madison-gi-tract-image-segmentation/...</td>\n",
       "      <td>26</td>\n",
       "      <td>10000</td>\n",
       "      <td>0</td>\n",
       "      <td>266</td>\n",
       "    </tr>\n",
       "    <tr>\n",
       "      <th>25027</th>\n",
       "      <td>case118_day14_slice_0084</td>\n",
       "      <td>13391 10 13407 7 13655 14 13671 11 13690 3 139...</td>\n",
       "      <td>13711 5 13976 11 14241 15 14507 16 14773 17 15...</td>\n",
       "      <td></td>\n",
       "      <td>118</td>\n",
       "      <td>14</td>\n",
       "      <td>84</td>\n",
       "      <td>input/uw-madison-gi-tract-image-segmentation/t...</td>\n",
       "      <td>266</td>\n",
       "      <td>266</td>\n",
       "      <td>...</td>\n",
       "      <td>1.50</td>\n",
       "      <td>2</td>\n",
       "      <td>input/uw-madison-gi-tract-image-segmentation/t...</td>\n",
       "      <td>input/uw-madison-gi-tract-image-segmentation/t...</td>\n",
       "      <td>input/uw-madison-gi-tract-image-segmentation/t...</td>\n",
       "      <td>[input/uw-madison-gi-tract-image-segmentation/...</td>\n",
       "      <td>4</td>\n",
       "      <td>10000</td>\n",
       "      <td>0</td>\n",
       "      <td>266</td>\n",
       "    </tr>\n",
       "    <tr>\n",
       "      <th>1213</th>\n",
       "      <td>case7_day13_slice_0062</td>\n",
       "      <td></td>\n",
       "      <td></td>\n",
       "      <td>26772 3 27035 8 27300 10 27565 12 27831 12 280...</td>\n",
       "      <td>7</td>\n",
       "      <td>13</td>\n",
       "      <td>62</td>\n",
       "      <td>input/uw-madison-gi-tract-image-segmentation/t...</td>\n",
       "      <td>266</td>\n",
       "      <td>266</td>\n",
       "      <td>...</td>\n",
       "      <td>1.50</td>\n",
       "      <td>1</td>\n",
       "      <td>input/uw-madison-gi-tract-image-segmentation/t...</td>\n",
       "      <td>input/uw-madison-gi-tract-image-segmentation/t...</td>\n",
       "      <td>input/uw-madison-gi-tract-image-segmentation/t...</td>\n",
       "      <td>[input/uw-madison-gi-tract-image-segmentation/...</td>\n",
       "      <td>16</td>\n",
       "      <td>10000</td>\n",
       "      <td>0</td>\n",
       "      <td>266</td>\n",
       "    </tr>\n",
       "  </tbody>\n",
       "</table>\n",
       "<p>5 rows × 21 columns</p>\n",
       "</div>"
      ],
      "text/plain": [
       "                             id  \\\n",
       "10135   case43_day20_slice_0072   \n",
       "28233  case125_day15_slice_0122   \n",
       "9088    case41_day25_slice_0033   \n",
       "25027  case118_day14_slice_0084   \n",
       "1213     case7_day13_slice_0062   \n",
       "\n",
       "                                             large_bowel  \\\n",
       "10135                                                      \n",
       "28233                                                      \n",
       "9088                                                       \n",
       "25027  13391 10 13407 7 13655 14 13671 11 13690 3 139...   \n",
       "1213                                                       \n",
       "\n",
       "                                             small_bowel  \\\n",
       "10135                                                      \n",
       "28233                                                      \n",
       "9088                                                       \n",
       "25027  13711 5 13976 11 14241 15 14507 16 14773 17 15...   \n",
       "1213                                                       \n",
       "\n",
       "                                                 stomach  case  day  slice  \\\n",
       "10135  34223 16 34246 9 34487 36 34752 38 35018 39 35...    43   20     72   \n",
       "28233                                                      125   15    122   \n",
       "9088                                                        41   25     33   \n",
       "25027                                                      118   14     84   \n",
       "1213   26772 3 27035 8 27300 10 27565 12 27831 12 280...     7   13     62   \n",
       "\n",
       "                                                    path  width  height  ...  \\\n",
       "10135  input/uw-madison-gi-tract-image-segmentation/t...    266     266  ...   \n",
       "28233  input/uw-madison-gi-tract-image-segmentation/t...    266     266  ...   \n",
       "9088   input/uw-madison-gi-tract-image-segmentation/t...    266     266  ...   \n",
       "25027  input/uw-madison-gi-tract-image-segmentation/t...    266     266  ...   \n",
       "1213   input/uw-madison-gi-tract-image-segmentation/t...    266     266  ...   \n",
       "\n",
       "      pixel_y count                                             path00  \\\n",
       "10135    1.50     1  input/uw-madison-gi-tract-image-segmentation/t...   \n",
       "28233    1.50     0  input/uw-madison-gi-tract-image-segmentation/t...   \n",
       "9088     1.50     0  input/uw-madison-gi-tract-image-segmentation/t...   \n",
       "25027    1.50     2  input/uw-madison-gi-tract-image-segmentation/t...   \n",
       "1213     1.50     1  input/uw-madison-gi-tract-image-segmentation/t...   \n",
       "\n",
       "                                                  path01  \\\n",
       "10135  input/uw-madison-gi-tract-image-segmentation/t...   \n",
       "28233  input/uw-madison-gi-tract-image-segmentation/t...   \n",
       "9088   input/uw-madison-gi-tract-image-segmentation/t...   \n",
       "25027  input/uw-madison-gi-tract-image-segmentation/t...   \n",
       "1213   input/uw-madison-gi-tract-image-segmentation/t...   \n",
       "\n",
       "                                                  path02  \\\n",
       "10135  input/uw-madison-gi-tract-image-segmentation/t...   \n",
       "28233  input/uw-madison-gi-tract-image-segmentation/t...   \n",
       "9088   input/uw-madison-gi-tract-image-segmentation/t...   \n",
       "25027  input/uw-madison-gi-tract-image-segmentation/t...   \n",
       "1213   input/uw-madison-gi-tract-image-segmentation/t...   \n",
       "\n",
       "                                             image_paths  rs     re  cs   ce  \n",
       "10135  [input/uw-madison-gi-tract-image-segmentation/...  45  10000   0  266  \n",
       "28233  [input/uw-madison-gi-tract-image-segmentation/...  43  10000   0  266  \n",
       "9088   [input/uw-madison-gi-tract-image-segmentation/...  26  10000   0  266  \n",
       "25027  [input/uw-madison-gi-tract-image-segmentation/...   4  10000   0  266  \n",
       "1213   [input/uw-madison-gi-tract-image-segmentation/...  16  10000   0  266  \n",
       "\n",
       "[5 rows x 21 columns]"
      ]
     },
     "execution_count": 7,
     "metadata": {},
     "output_type": "execute_result"
    }
   ],
   "source": [
    "df_train = extract_metadata(df, TRAIN_DIR, channels=3, stride=2)\n",
    "df_train.sample(5)"
   ]
  },
  {
   "cell_type": "markdown",
   "id": "580901bb",
   "metadata": {},
   "source": [
    "## Generate Original Masks"
   ]
  },
  {
   "cell_type": "code",
   "execution_count": 87,
   "id": "7ad5a8c3",
   "metadata": {},
   "outputs": [],
   "source": [
    "IMAGE_SHAPE = SEG_SHAPE = (224,224)\n",
    "\n",
    "def make_seg_mask(row, output_dir, resize_to, resize=False):\n",
    "    \"\"\"\"\"\"\n",
    "    _slice_shape = (row.height, row.width)\n",
    "    counter  = 0\n",
    "    \n",
    "    if not pd.isna(row.large_bowel):\n",
    "        lb_mask = rle_decode(row.large_bowel, _slice_shape)\n",
    "    else:\n",
    "        lb_mask = np.zeros(_slice_shape)\n",
    "        counter +=1\n",
    "        \n",
    "    if not pd.isna(row.small_bowel):\n",
    "        sb_mask = rle_decode(row.small_bowel, _slice_shape)\n",
    "    else:\n",
    "        sb_mask = np.zeros(_slice_shape)\n",
    "        counter +=1\n",
    "        \n",
    "    if not pd.isna(row.stomach):\n",
    "        st_mask = rle_decode(row.stomach, _slice_shape)\n",
    "    else:\n",
    "        st_mask = np.zeros(_slice_shape)\n",
    "        counter +=1\n",
    "    \n",
    "    mask_arr = np.stack([lb_mask, sb_mask, st_mask], axis=-1)\n",
    "    \n",
    "    if resize:\n",
    "        mask_arr = cv2.resize(mask_arr, resize_to, interpolation=cv2.INTER_NEAREST).astype(np.uint8)\n",
    "            \n",
    "    mask_path = os.path.join(output_dir, f\"{row.id}_mask.png\")\n",
    "    if counter != 3:\n",
    "        cv2.imwrite(mask_path, mask_arr)\n",
    "        \n",
    "    return mask_path"
   ]
  },
  {
   "cell_type": "markdown",
   "id": "f002c63f",
   "metadata": {},
   "source": [
    "## Plot Masks Helper\n"
   ]
  },
  {
   "cell_type": "code",
   "execution_count": 59,
   "id": "7eb99fcd",
   "metadata": {},
   "outputs": [],
   "source": [
    "\n",
    "def plot_masks_chronologic(imgs, masks, ids, alpha=1):\n",
    "    \n",
    "    slices = [i.split(\"_\")[-1] for i in ids]\n",
    "    \n",
    "    # Plot\n",
    "    fig, axs = plt.subplots(2, 5, figsize=(23, 11))\n",
    "    axs = axs.flatten()\n",
    "    \n",
    "    for k, (img, mask) in enumerate(zip(imgs, masks)):\n",
    "\n",
    "        # Change pixels - when 1 make True, when 0 make NA\n",
    "        mask = np.ma.masked_where(mask == 0, mask)\n",
    "\n",
    "        # Split the channels\n",
    "        mask_largeB = mask[:, :, 0]\n",
    "        mask_smallB = mask[:, :, 1]\n",
    "        mask_stomach = mask[:, :, 2]\n",
    "        \n",
    "        title = f\"{k+1}. Slice {slices[k]}\"\n",
    "        axs[k].set_title(title, fontsize = 16, \n",
    "                         color = my_colors[-1], weight='bold')\n",
    "\n",
    "        axs[k].imshow(img, cmap=\"gist_gray\")\n",
    "        axs[k].axis(\"off\")\n",
    "        axs[k].imshow(mask_largeB, interpolation='none', cmap=CMAP1, alpha=alpha)\n",
    "        axs[k].imshow(mask_smallB, interpolation='none', cmap=CMAP2, alpha=alpha)\n",
    "        axs[k].imshow(mask_stomach, interpolation='none', cmap=CMAP3, alpha=alpha)\n",
    "        axs[k].axis(\"off\")\n",
    "    \n",
    "    axs[0].legend(legend_colors, labels, loc=2)\n",
    "    plt.tight_layout()\n",
    "    plt.show()"
   ]
  },
  {
   "cell_type": "code",
   "execution_count": 46,
   "id": "6f9ed13f",
   "metadata": {},
   "outputs": [
    {
     "data": {
      "text/plain": [
       "'input/uw-madison-gi-tract-image-segmentation/masks'"
      ]
     },
     "execution_count": 46,
     "metadata": {},
     "output_type": "execute_result"
    }
   ],
   "source": [
    "outputdir = os.path.join(BASE_PATH, \"masks\")\n",
    "outputdir"
   ]
  },
  {
   "cell_type": "code",
   "execution_count": 88,
   "id": "07887b1f",
   "metadata": {},
   "outputs": [
    {
     "data": {
      "application/vnd.jupyter.widget-view+json": {
       "model_id": "abfa956c1b364cd2a9ea6610a04a9e95",
       "version_major": 2,
       "version_minor": 0
      },
      "text/plain": [
       "  0%|          | 0/38208 [00:00<?, ?it/s]"
      ]
     },
     "metadata": {},
     "output_type": "display_data"
    }
   ],
   "source": [
    "df_train[\"multilabel_mask_path\"] = df_train.progress_apply(lambda _row: make_seg_mask(_row, outputdir, resize_to=SEG_SHAPE, resize=False), axis=1)"
   ]
  },
  {
   "cell_type": "markdown",
   "id": "e1040940",
   "metadata": {},
   "source": [
    "## VIsualiize"
   ]
  },
  {
   "cell_type": "code",
   "execution_count": 127,
   "id": "5e7b401e",
   "metadata": {},
   "outputs": [],
   "source": [
    "mask_colors = [(1.0, 0.7, 0.1), (1.0, 0.5, 1.0), (1.0, 0.22, 0.099)]\n",
    "legend_colors = [Rectangle((0,0),1,1, color=color) for color in mask_colors]\n",
    "labels = [\"Large Bowel\", \"Small Bowel\", \"Stomach\"]\n",
    "\n",
    "CMAP1 = CustomCmap(mask_colors[0])\n",
    "CMAP2 = CustomCmap(mask_colors[1])\n",
    "CMAP3 = CustomCmap(mask_colors[2])"
   ]
  },
  {
   "cell_type": "code",
   "execution_count": 133,
   "id": "f8deed8f",
   "metadata": {},
   "outputs": [],
   "source": [
    "def plot_original_mask(img, mask, alpha=1):\n",
    "\n",
    "    # Change pixels - when 1 make True, when 0 make NA\n",
    "    mask = np.ma.masked_where(mask == 0, mask)\n",
    "\n",
    "    # Split the channels\n",
    "    mask_largeB = mask[:, :, 0]\n",
    "    mask_smallB = mask[:, :, 1]\n",
    "    mask_stomach = mask[:, :, 2]\n",
    "\n",
    "\n",
    "    # Plot the 2 images (Original and with Mask)\n",
    "    fig, (ax1, ax2) = plt.subplots(1, 2, figsize=(24, 10))\n",
    "\n",
    "    # Original\n",
    "    ax1.set_title(\"Original Image\")\n",
    "    ax1.imshow(img)\n",
    "    ax1.axis(\"off\")\n",
    "\n",
    "    # With Mask\n",
    "    ax2.set_title(\"Image with Mask\")\n",
    "    ax2.imshow(img)\n",
    "    ax2.imshow(mask_largeB, interpolation='none', cmap=CMAP1, alpha=alpha)\n",
    "    ax2.imshow(mask_smallB, interpolation='none', cmap=CMAP2, alpha=alpha)\n",
    "    ax2.imshow(mask_stomach, interpolation='none', cmap=CMAP3, alpha=alpha)\n",
    "    ax2.legend(legend_colors, labels)\n",
    "    ax2.axis(\"off\")\n",
    "    \n",
    "#     fig.savefig('foo.png', dpi=500)\n",
    "    plt.show()\n",
    "def get_overlay(img, mask, _alpha=0.999, _beta=0.45, _gamma=0):\n",
    "    \n",
    "    # Normalize to be between 0-1 (float32)\n",
    "    img = (img/img.max()).astype(np.float32)\n",
    "    \n",
    "\n",
    "    mask_rgb=mask.astype(np.float32)\n",
    "    \n",
    "    # overlay\n",
    "    seg_overlay = cv2.addWeighted(src1=img, alpha=_alpha, \n",
    "                                  src2=mask_rgb, beta=_beta, gamma=_gamma)\n",
    "    return seg_overlay\n",
    "\n",
    "def get_miss_overlay(gt_mask, pred_mask, _alpha=0.9, _beta=0.25, _gamma=0):\n",
    "    \n",
    "    # Make mask RGB and float32\n",
    "    miss_rgb = np.zeros((*pred_mask.shape[:2],3), dtype=np.float32)\n",
    "    \n",
    "    if len(pred_mask.shape)==2:\n",
    "        miss_rgb[..., 1] = np.where((gt_mask==pred_mask)&(gt_mask!=0), 0.8, 0.0)\n",
    "        miss_rgb[..., 0] = np.where((gt_mask!=pred_mask), 0.8, 0.0)\n",
    "    else:\n",
    "        \n",
    "        miss_rgb = np.where((gt_mask==pred_mask)&(gt_mask!=0.0), (0.0,0.8,0.0), (0.0,0.0,0.0))\n",
    "        miss_rgb = np.where((gt_mask!=pred_mask), (0.8,0.0,0.0), miss_rgb)\n",
    "        \n",
    "    return miss_rgb\n",
    "\n",
    "def plot_preds(img, pred_mask, gt_mask):\n",
    "    gt_overlay = get_overlay(img, gt_mask)\n",
    "    pred_overlay = get_overlay(img, pred_mask)\n",
    "    miss_overlay = get_miss_overlay(gt_mask, pred_mask)\n",
    "    \n",
    "    plt.figure(figsize=(20,12))\n",
    "    \n",
    "    for i, (_desc, _img) in enumerate(zip([\"Original\", \"Prediction Mask\", \"Ground-Truth Mask\", \"Miss Mask\"], [img, pred_overlay, gt_overlay, miss_overlay])):        \n",
    "        plt.subplot(1,4,i+1)\n",
    "        plt.imshow(_img)\n",
    "        plt.title(f\"{_desc} Image\", fontweight=\"bold\")        \n",
    "        plt.axis(False)\n",
    "        \n",
    "        if i in [1,2]:\n",
    "            handles = [Rectangle((0,0),1,1, color=_c) for _c in [(0.667,0.0,0.0), (0.0,0.667,0.0), (0.0,0.0,0.667)]]\n",
    "            labels = [\"Large Bowel Segmentation Map\", \"Small Bowel Segmentation Map\", \"Stomach Segmentation Map\"]\n",
    "            plt.legend(handles,labels)\n",
    "        elif i==3:\n",
    "            handles = [Rectangle((0,0),1,1, color=_c) for _c in [(0.0,0.8,0.0), (0.8,0.0,0.0), (0.0, 0.0, 0.0)]]\n",
    "            labels = [\"Agreement\", \"Disagreement\", \"Background\"]\n",
    "            plt.legend(handles,labels)\n",
    "    plt.tight_layout()\n",
    "    plt.show()\n"
   ]
  },
  {
   "cell_type": "code",
   "execution_count": 135,
   "id": "26687d5c",
   "metadata": {},
   "outputs": [],
   "source": [
    "# Full Example\n",
    "ID = \"case123_day20_slice_0107\"\n",
    "\n",
    "img_path = df_train[df_train['id'] == ID]['path'].values[0]\n",
    "mask_path = df_train[df_train['id'] == ID]['multilabel_mask_path'].values[0]\n",
    "\n",
    "# Read image\n",
    "img = open_gray16(img_path, normalize=True, to_rgb=True)\n",
    "mask = open_gray16(mask_path, normalize= True, to_rgb=True )\n",
    "pred = np.zeros(img.shape )\n",
    "# Get mask\n"
   ]
  },
  {
   "cell_type": "code",
   "execution_count": 136,
   "id": "7e735d91",
   "metadata": {},
   "outputs": [
    {
     "data": {
      "text/plain": [
       "(266, 266, 3)"
      ]
     },
     "execution_count": 136,
     "metadata": {},
     "output_type": "execute_result"
    }
   ],
   "source": [
    "img.shape"
   ]
  },
  {
   "cell_type": "code",
   "execution_count": 137,
   "id": "39323ba9",
   "metadata": {},
   "outputs": [
    {
     "data": {
      "text/plain": [
       "<matplotlib.image.AxesImage at 0x7fa330e80790>"
      ]
     },
     "execution_count": 137,
     "metadata": {},
     "output_type": "execute_result"
    },
    {
     "data": {
      "image/png": "[encoded data removed]",
      "text/plain": [
       "<Figure size 432x288 with 1 Axes>"
      ]
     },
     "metadata": {
      "needs_background": "light"
     },
     "output_type": "display_data"
    }
   ],
   "source": [
    "plt.imshow(mask)\n"
   ]
  },
  {
   "cell_type": "code",
   "execution_count": 134,
   "id": "65ba1dd8",
   "metadata": {},
   "outputs": [
    {
     "data": {
      "image/png": "[encoded data removed]",
      "text/plain": [
       "<Figure size 1728x720 with 2 Axes>"
      ]
     },
     "metadata": {
      "needs_background": "light"
     },
     "output_type": "display_data"
    }
   ],
   "source": [
    "plot_original_mask(img, mask, alpha=1)"
   ]
  },
  {
   "cell_type": "code",
   "execution_count": null,
   "id": "b63fc50f",
   "metadata": {},
   "outputs": [],
   "source": []
  }
 ],
 "metadata": {
  "kernelspec": {
   "display_name": "Python [conda env:HOT]",
   "language": "python",
   "name": "conda-env-HOT-py"
  },
  "language_info": {
   "codemirror_mode": {
    "name": "ipython",
    "version": 3
   },
   "file_extension": ".py",
   "mimetype": "text/x-python",
   "name": "python",
   "nbconvert_exporter": "python",
   "pygments_lexer": "ipython3",
   "version": "3.10.4"
  }
 },
 "nbformat": 4,
 "nbformat_minor": 5
}
